{
  "cells": [
    {
      "cell_type": "markdown",
      "metadata": {
        "id": "view-in-github",
        "colab_type": "text"
      },
      "source": [
        "<a href=\"https://colab.research.google.com/github/salonikhot123/saloni_info5731_fall2025/blob/main/Khot_Saloni_Exercise_01.ipynb\" target=\"_parent\"><img src=\"https://colab.research.google.com/assets/colab-badge.svg\" alt=\"Open In Colab\"/></a>"
      ]
    },
    {
      "cell_type": "markdown",
      "metadata": {
        "id": "DymRJbxDBCnf"
      },
      "source": [
        "# **INFO5731 Assiginment 1**\n",
        "\n",
        "This exercise covers a variety of fundamental concepts in Python and is designed to help students improve their coding skills and problem-solving abilities.\n",
        "\n",
        "**Expectations**:\n",
        "*   Students are expected to complete the exercise during lecture period to meet the active participation criteria of the course.\n",
        "*   Use the provided .*ipynb* document to write your code & respond to the questions. Avoid generating a new file.\n",
        "*   Write complete answers and run all the cells before submission.\n",
        "*   Make sure the submission is \"clean\"; *i.e.*, no unnecessary code cells.\n",
        "*   Once finished, allow shared rights from top right corner (*see Canvas for details*).\n",
        "\n",
        "**Total points**: 100\n",
        "\n",
        "**Deadline**: This Assiginment-1 is due by Sunday Midnight\n",
        "\n",
        "**Late submissions cannot be considered, and no requests will be answered. Manage your time accordingly.**\n"
      ]
    },
    {
      "cell_type": "markdown",
      "source": [
        "## Question 1\n",
        "Write a Python program that  prompts the user to input the length and width of a rectangle, and then calculates and displays the area of the rectangle."
      ],
      "metadata": {
        "id": "FBKvD6O_TY6e"
      }
    },
    {
      "cell_type": "code",
      "source": [
        "\n",
        "\n",
        "# Prompt user for input\n",
        "length = float(input(\"Enter the length of the rectangle: \"))\n",
        "width = float(input(\"Enter the width of the rectangle: \"))\n",
        "\n",
        "# Calculate area\n",
        "area = length * width\n",
        "\n",
        "# Display result\n",
        "print(f\"The area of the rectangle is: {area}\")\n",
        "\n",
        "a=\"abracadabra\"\n",
        "a.upper()"
      ],
      "metadata": {
        "id": "cikVKDXdTbzE",
        "colab": {
          "base_uri": "https://localhost:8080/",
          "height": 89
        },
        "outputId": "c608a9d2-0878-4f15-f086-84ea4ea21298"
      },
      "execution_count": null,
      "outputs": [
        {
          "output_type": "stream",
          "name": "stdout",
          "text": [
            "Enter the length of the rectangle: 2\n",
            "Enter the width of the rectangle: 4\n",
            "The area of the rectangle is: 8.0\n"
          ]
        },
        {
          "output_type": "execute_result",
          "data": {
            "text/plain": [
              "'ABRACADABRA'"
            ],
            "application/vnd.google.colaboratory.intrinsic+json": {
              "type": "string"
            }
          },
          "metadata": {},
          "execution_count": 2
        }
      ]
    },
    {
      "cell_type": "markdown",
      "source": [
        "## Question 2\n",
        "Create a Python program that interactively takes two numerical inputs from the user and swaps their values without utilizing an extra variable."
      ],
      "metadata": {
        "id": "E9RqrlwdTfvl"
      }
    },
    {
      "cell_type": "code",
      "source": [
        "# Swap two numbers without using an extra variable\n",
        "\n",
        "# Take input from the user\n",
        "num1 = float(input(\"Enter the first number: \"))\n",
        "num2 = float(input(\"Enter the second number: \"))\n",
        "\n",
        "print(f\"\\nBefore swapping -> num1 = {num1}, num2 = {num2}\")\n",
        "\n",
        "# Swapping using arithmetic operations\n",
        "num1 = num1 + num2   # step 1: add both numbers\n",
        "num2 = num1 - num2   # step 2: subtract new num1 by old num2 -> gives old num1\n",
        "num1 = num1 - num2   # step 3: subtract new num1 by new num2 -> gives old num2\n",
        "\n",
        "print(f\"After swapping  -> num1 = {num1}, num2 = {num2}\")\n"
      ],
      "metadata": {
        "id": "4XvRknixTh1g",
        "colab": {
          "base_uri": "https://localhost:8080/"
        },
        "outputId": "ede30786-968a-4afb-c08e-f68414bde37c"
      },
      "execution_count": null,
      "outputs": [
        {
          "output_type": "stream",
          "name": "stdout",
          "text": [
            "Enter the first number: 2\n",
            "Enter the second number: 3\n",
            "\n",
            "Before swapping -> num1 = 2.0, num2 = 3.0\n",
            "After swapping  -> num1 = 3.0, num2 = 2.0\n"
          ]
        }
      ]
    },
    {
      "cell_type": "markdown",
      "metadata": {
        "id": "03jb4GZsBkBS"
      },
      "source": [
        "## Question 3\n",
        "Write a Python script to determine and print the length of a user-input string."
      ]
    },
    {
      "cell_type": "code",
      "execution_count": null,
      "metadata": {
        "id": "YaGLbSHHB8Ej",
        "colab": {
          "base_uri": "https://localhost:8080/"
        },
        "outputId": "b885354d-48a7-4c14-a692-d7794afe1fd8"
      },
      "outputs": [
        {
          "output_type": "stream",
          "name": "stdout",
          "text": [
            "Enter a string: saloni\n",
            "The length of the entered string is: 6\n"
          ]
        }
      ],
      "source": [
        "# Program to find the length of a string without using len()\n",
        "\n",
        "# Take input from the user\n",
        "user_text = input(\"Enter a string: \")\n",
        "\n",
        "# Initialize counter\n",
        "count = 0\n",
        "\n",
        "# Loop through each character and count manually\n",
        "for char in user_text:\n",
        "    count += 1\n",
        "\n",
        "# Display the result\n",
        "print(f\"The length of the entered string is: {count}\")\n",
        "\n"
      ]
    },
    {
      "cell_type": "markdown",
      "metadata": {
        "id": "jJDe71iLB616"
      },
      "source": [
        "## Question 4\n",
        "Construct a Python program that counts and displays the occurrences of each character in a given string.\n",
        "\n",
        "Sample String: 'openai.ai',\n",
        "\n",
        "Expected Result: {'a': 2, 'i': 2, '.': 1, 'o': 1, 'p': 1, 'e': 1, 'n': 1}"
      ]
    },
    {
      "cell_type": "code",
      "execution_count": null,
      "metadata": {
        "id": "MtKskTzbCLaU",
        "colab": {
          "base_uri": "https://localhost:8080/"
        },
        "outputId": "c5d4c5b4-236d-436c-d693-a362902ba07c"
      },
      "outputs": [
        {
          "output_type": "stream",
          "name": "stdout",
          "text": [
            "Enter a string: saloni.ai\n",
            "Character frequencies:\n",
            "{'s': 1, 'a': 2, 'l': 1, 'o': 1, 'n': 1, 'i': 2, '.': 1}\n"
          ]
        }
      ],
      "source": [
        "# Program to count the occurrences of each character in a string\n",
        "\n",
        "# Take input from the user\n",
        "text = input(\"Enter a string: \")\n",
        "\n",
        "# Empty dictionary to store counts\n",
        "char_counts = {}\n",
        "\n",
        "# Loop through each character and update count\n",
        "for ch in text:\n",
        "    if ch in char_counts:\n",
        "        char_counts[ch] += 1\n",
        "    else:\n",
        "        char_counts[ch] = 1\n",
        "\n",
        "# Display the result\n",
        "print(\"Character frequencies:\")\n",
        "print(char_counts)\n",
        "\n"
      ]
    },
    {
      "cell_type": "markdown",
      "metadata": {
        "id": "55W9AMdXCSpV"
      },
      "source": [
        "## Question 5\n",
        "Design a Python code to calculate the sum of all elements in a user-provided list."
      ]
    },
    {
      "cell_type": "code",
      "execution_count": null,
      "metadata": {
        "id": "I57NXsauCec2",
        "colab": {
          "base_uri": "https://localhost:8080/"
        },
        "outputId": "2b0ef9b2-e5f4-4b7a-c80b-4936879de0d8"
      },
      "outputs": [
        {
          "output_type": "stream",
          "name": "stdout",
          "text": [
            "Enter numbers separated by commas: 40,000\n",
            "The total sum of the list elements is: 40\n"
          ]
        }
      ],
      "source": [
        "# Program to find the sum of elements in a list using while loop\n",
        "\n",
        "# Take input from user (numbers separated by commas)\n",
        "user_data = input(\"Enter numbers separated by commas: \")\n",
        "\n",
        "# Convert input into a list of integers\n",
        "numbers = [int(item.strip()) for item in user_data.split(\",\")]\n",
        "\n",
        "# Initialize variables\n",
        "index = 0\n",
        "total_sum = 0\n",
        "\n",
        "# Use while loop to accumulate sum\n",
        "while index < len(numbers):\n",
        "    total_sum = total_sum + numbers[index]\n",
        "    index = index + 1\n",
        "\n",
        "# Display result\n",
        "print(\"The total sum of the list elements is:\", total_sum)\n",
        "\n"
      ]
    },
    {
      "cell_type": "markdown",
      "metadata": {
        "id": "4ulBZ6yhCi9F"
      },
      "source": [
        "## Question 6\n",
        "Write a Python program that modifies a given string by replacing all occurrences of its first character with '$', excluding the first character itself.\n",
        "\n",
        "\n",
        "Sample String : 'restart‘\n",
        "Expected Result : 'resta\\$t'"
      ]
    },
    {
      "cell_type": "code",
      "execution_count": null,
      "metadata": {
        "id": "Fj0XhwbBCw2o"
      },
      "outputs": [],
      "source": [
        "# Program to replace all occurrences of the first character with '$'\n",
        "# except the first character itself\n",
        "\n",
        "# Take input from the user\n",
        "text = input(\"Enter a string: \")\n",
        "\n",
        "if len(text) > 0:\n",
        "    first_char = text[0]\n",
        "    modified = first_char  # keep the first character as it is\n",
        "\n",
        "    # Loop through the rest of the string\n",
        "    for ch in text[1:]:\n",
        "        if ch == first_char:\n",
        "            modified += '$'\n",
        "        else:\n",
        "            modified += ch\n",
        "\n",
        "    print(\"Modified string:\", modified)\n",
        "else:\n",
        "    print(\"Empty string provided!\")\n",
        "\n"
      ]
    },
    {
      "cell_type": "markdown",
      "source": [
        "## Question 7\n",
        "Write a Python program using a while loop to compute the factorial of a user-supplied number."
      ],
      "metadata": {
        "id": "qVXA3q7ET5JI"
      }
    },
    {
      "cell_type": "markdown",
      "source": [
        "## Question 8\n",
        "Create a program that accepts a list of numbers as input and outputs a new list containing only the even numbers."
      ],
      "metadata": {
        "id": "6YfbzXMNT--R"
      }
    },
    {
      "cell_type": "code",
      "source": [
        " # Program to calculate factorial using a while loop\n",
        "\n",
        "# Take input from the user\n",
        "num = int(input(\"Enter a non-negative integer: \"))\n",
        "\n",
        "# Initialize variables\n",
        "factorial = 1\n",
        "counter = num\n",
        "\n",
        "# Compute factorial with while loop\n",
        "while counter > 1:\n",
        "    factorial = factorial * counter\n",
        "    counter = counter - 1\n",
        "\n",
        "# Display result\n",
        "print(f\"The factorial of {num} is: {factorial}\")\n"
      ],
      "metadata": {
        "id": "54q7wMQPUAKu",
        "colab": {
          "base_uri": "https://localhost:8080/"
        },
        "outputId": "80ab57a0-27bf-40df-e364-a9c4858ba11a"
      },
      "execution_count": null,
      "outputs": [
        {
          "output_type": "stream",
          "name": "stdout",
          "text": [
            "Enter a non-negative integer: 6\n",
            "The factorial of 6 is: 720\n"
          ]
        }
      ]
    },
    {
      "cell_type": "markdown",
      "metadata": {
        "id": "_bIP7s1MCzue"
      },
      "source": [
        "## Question 9\n",
        "Design a Python function to check if a number is prime.\n"
      ]
    },
    {
      "cell_type": "code",
      "execution_count": null,
      "metadata": {
        "id": "w79QilHXD3Mg",
        "colab": {
          "base_uri": "https://localhost:8080/"
        },
        "outputId": "03d14e37-da66-4aa2-be07-208ec04a5e5f"
      },
      "outputs": [
        {
          "output_type": "stream",
          "name": "stdout",
          "text": [
            "Enter a number: 4\n",
            "4 is not a prime number.\n"
          ]
        }
      ],
      "source": [
        "# Function to check if a number is prime\n",
        "def is_prime(n):\n",
        "    # Handle edge cases\n",
        "    if n <= 1:\n",
        "        return False\n",
        "    if n == 2:\n",
        "        return True\n",
        "\n",
        "    # Check divisibility\n",
        "    divisor = 2\n",
        "    while divisor * divisor <= n:\n",
        "        if n % divisor == 0:\n",
        "            return False\n",
        "        divisor += 1\n",
        "    return True\n",
        "\n",
        "# Take input from the user\n",
        "num = int(input(\"Enter a number: \"))\n",
        "\n",
        "# Call the function and display result\n",
        "if is_prime(num):\n",
        "    print(num, \"is a prime number.\")\n",
        "else:\n",
        "    print(num, \"is not a prime number.\")\n",
        "\n"
      ]
    },
    {
      "cell_type": "markdown",
      "metadata": {
        "id": "xCa2bK9aD4Q3"
      },
      "source": [
        "## Question 10\n",
        "Write a Python program to concatenate following dictionaries to create a new one.\n",
        "\n",
        "Sample Dictionary : dic1={1:10, 2:20}, dic2={3:30, 4:40}, dic3={5:50,6:60},\n",
        "\n",
        "Expected Result : {1: 10, 2: 20, 3: 30, 4: 40, 5: 50, 6: 60}\n"
      ]
    },
    {
      "cell_type": "code",
      "execution_count": null,
      "metadata": {
        "id": "_z4aLqAbEET1",
        "colab": {
          "base_uri": "https://localhost:8080/"
        },
        "outputId": "ce507f1b-2ffd-4a36-a6a4-1f1421f6f9b6"
      },
      "outputs": [
        {
          "output_type": "stream",
          "name": "stdout",
          "text": [
            "Final merged dictionary is: {1: 10, 2: 20, 3: 30, 4: 40, 5: 50, 6: 60}\n"
          ]
        }
      ],
      "source": [
        "# Program to merge multiple dictionaries into one\n",
        "\n",
        "# Sample dictionaries\n",
        "dic1 = {1: 10, 2: 20}\n",
        "dic2 = {3: 30, 4: 40}\n",
        "dic3 = {5: 50, 6: 60}\n",
        "\n",
        "# Start with a copy of the first dictionary\n",
        "final_dict = dic1.copy()\n",
        "\n",
        "# Update with other dictionaries\n",
        "final_dict.update(dic2)\n",
        "final_dict.update(dic3)\n",
        "\n",
        "# Print result\n",
        "print(\"Final merged dictionary is:\", final_dict)\n",
        "\n"
      ]
    },
    {
      "cell_type": "markdown",
      "source": [
        "## Question 11\n",
        "Design a Python function that takes a tuple of integers as input and returns the largest and smallest elements."
      ],
      "metadata": {
        "id": "bkyZ2xSZUOst"
      }
    },
    {
      "cell_type": "code",
      "source": [
        "# Function to find smallest and largest numbers in a tuple\n",
        "def find_min_max(numbers):\n",
        "    if len(numbers) == 0:\n",
        "        return None, None   # handle empty tuple\n",
        "\n",
        "    # Initialize both with the first element\n",
        "    smallest = numbers[0]\n",
        "    largest = numbers[0]\n",
        "\n",
        "    # Traverse the tuple\n",
        "    for value in numbers[1:]:\n",
        "        if value < smallest:\n",
        "            smallest = value\n",
        "        elif value > largest:\n",
        "            largest = value\n",
        "\n",
        "    return smallest, largest\n",
        "\n",
        "# Example usage\n",
        "data = (12, 5, 34, 7, 19, -2, 45)\n",
        "low, high = find_min_max(data)\n",
        "print(\"Tuple:\", data)\n",
        "print(\"Smallest:\", low)\n",
        "print(\"Largest:\", high)\n"
      ],
      "metadata": {
        "id": "3FdLRBKOUQEd",
        "colab": {
          "base_uri": "https://localhost:8080/"
        },
        "outputId": "fcdc5baa-998e-4d9b-8278-575e0c965ec2"
      },
      "execution_count": null,
      "outputs": [
        {
          "output_type": "stream",
          "name": "stdout",
          "text": [
            "Tuple: (12, 5, 34, 7, 19, -2, 45)\n",
            "Smallest: -2\n",
            "Largest: 45\n"
          ]
        }
      ]
    },
    {
      "cell_type": "markdown",
      "source": [
        "## Question 12\n",
        "Write a Python program that counts the frequency of each character in a given string and stores it in a dictionary."
      ],
      "metadata": {
        "id": "O0TVi3gKUTpp"
      }
    },
    {
      "cell_type": "code",
      "source": [
        "# Program to count character frequencies in a string\n",
        "\n",
        "# Take input from user\n",
        "text = input(\"Enter a string: \")\n",
        "\n",
        "# Create an empty dictionary to store character counts\n",
        "frequency = {}\n",
        "\n",
        "# Go through each character in the string\n",
        "for ch in text:\n",
        "    if ch in frequency:\n",
        "        frequency[ch] = frequency[ch] + 1\n",
        "    else:\n",
        "        frequency[ch] = 1\n",
        "\n",
        "# Show the result\n",
        "print(\"Character frequency dictionary:\")\n",
        "print(frequency)\n"
      ],
      "metadata": {
        "id": "lAtfSfZXUU-h",
        "colab": {
          "base_uri": "https://localhost:8080/"
        },
        "outputId": "3677e60c-ecf6-4d7a-9b45-3a09b1866d19"
      },
      "execution_count": null,
      "outputs": [
        {
          "output_type": "stream",
          "name": "stdout",
          "text": [
            "Enter a string: info python\n",
            "Character frequency dictionary:\n",
            "{'i': 1, 'n': 2, 'f': 1, 'o': 2, ' ': 1, 'p': 1, 'y': 1, 't': 1, 'h': 1}\n"
          ]
        }
      ]
    },
    {
      "cell_type": "markdown",
      "metadata": {
        "id": "0v48Vqa7FrQh"
      },
      "source": [
        "## Question 13\n",
        "Implement a Python script to identify duplicate elements in a provided array of integers. Return -1 if there are no duplicates."
      ]
    },
    {
      "cell_type": "code",
      "execution_count": null,
      "metadata": {
        "id": "7WEmgq-DF2P1",
        "colab": {
          "base_uri": "https://localhost:8080/"
        },
        "outputId": "fc7d58dc-1f5e-45a8-a467-a345e5765e12"
      },
      "outputs": [
        {
          "output_type": "stream",
          "name": "stdout",
          "text": [
            "Array: [3, 7, 2, 3, 9, 7, 5]\n",
            "Duplicates found: [3, 7]\n"
          ]
        }
      ],
      "source": [
        "# Program to find duplicate elements in an array of integers\n",
        "\n",
        "def find_duplicates(arr):\n",
        "    duplicates = []\n",
        "    length = len(arr)\n",
        "\n",
        "    # Compare each element with the rest\n",
        "    i = 0\n",
        "    while i < length:\n",
        "        j = i + 1\n",
        "        while j < length:\n",
        "            if arr[i] == arr[j] and arr[i] not in duplicates:\n",
        "                duplicates.append(arr[i])\n",
        "            j += 1\n",
        "        i += 1\n",
        "\n",
        "    # Return result\n",
        "    if len(duplicates) == 0:\n",
        "        return -1\n",
        "    else:\n",
        "        return duplicates\n",
        "\n",
        "\n",
        "# Example usage\n",
        "data = [3, 7, 2, 3, 9, 7, 5]\n",
        "result = find_duplicates(data)\n",
        "\n",
        "print(\"Array:\", data)\n",
        "print(\"Duplicates found:\", result)\n",
        "\n"
      ]
    },
    {
      "cell_type": "markdown",
      "metadata": {
        "id": "vD5PYLMuGga_"
      },
      "source": [
        "## Question 14\n",
        "Write a Python script to find the common elements between two lists."
      ]
    },
    {
      "cell_type": "code",
      "execution_count": null,
      "metadata": {
        "id": "t0D5kdJUGjjw",
        "colab": {
          "base_uri": "https://localhost:8080/"
        },
        "outputId": "ce694256-caf6-4889-8773-713ee14daa8c"
      },
      "outputs": [
        {
          "output_type": "stream",
          "name": "stdout",
          "text": [
            "First list: [1, 2, 3, 4, 5]\n",
            "Second list: [3, 5, 7, 9, 1]\n",
            "Common elements: [1, 3, 5]\n"
          ]
        }
      ],
      "source": [
        "# Program to find common elements between two lists\n",
        "\n",
        "def find_common(list1, list2):\n",
        "    commons = []\n",
        "    i = 0\n",
        "    while i < len(list1):\n",
        "        j = 0\n",
        "        while j < len(list2):\n",
        "            if list1[i] == list2[j] and list1[i] not in commons:\n",
        "                commons.append(list1[i])\n",
        "            j += 1\n",
        "        i += 1\n",
        "    return commons\n",
        "\n",
        "# Example usage\n",
        "list_a = [1, 2, 3, 4, 5]\n",
        "list_b = [3, 5, 7, 9, 1]\n",
        "\n",
        "result = find_common(list_a, list_b)\n",
        "\n",
        "print(\"First list:\", list_a)\n",
        "print(\"Second list:\", list_b)\n",
        "print(\"Common elements:\", result)\n",
        "\n"
      ]
    },
    {
      "cell_type": "markdown",
      "metadata": {
        "id": "uHkd-y5VhVWC"
      },
      "source": [
        "## Question 15\n",
        "Write a Python program to randomly divide the students in this class into maximum of eight groups for term projects, each group should have at least 4 students but no more than 6 students (including 6).\n",
        "\n",
        "Here is the students list:\n",
        "\n",
        "student_list_spring_2024=[rb0846,\n",
        "ac1964,\n",
        "hc0612,\n",
        "md0912,\n",
        "ad1198,\n",
        "md0894,\n",
        "md0825,\n",
        "vg0598,\n",
        "vg0433,\n",
        "mh1068,\n",
        "yj0173,\n",
        "pk0553,\n",
        "tk0411,\n",
        "srk0204,\n",
        "sk2922,\n",
        "sk2936,\n",
        "mk1302,\n",
        "mk1317,\n",
        "tk0412,\n",
        "vk0656,\n",
        "sm2985,\n",
        "mm2372,\n",
        "un0045,\n",
        "an0892,\n",
        "sn0913,\n",
        "gp0252,\n",
        "ap1484,\n",
        "mr1765,\n",
        "sr1385,\n",
        "sr1335,\n",
        "hs0665,\n",
        "ms2060,\n",
        "gt0217,\n",
        "nt0385,\n",
        "tv0186,\n",
        "sv1394,\n",
        "sv1752,\n",
        "sv1555,\n",
        "sy0594\n",
        "]\n"
      ]
    },
    {
      "cell_type": "code",
      "execution_count": null,
      "metadata": {
        "id": "3iGbmcOBhTwy",
        "colab": {
          "base_uri": "https://localhost:8080/"
        },
        "outputId": "a6af91c2-0149-4d61-8641-0c57ab51f2af"
      },
      "outputs": [
        {
          "output_type": "stream",
          "name": "stdout",
          "text": [
            "Group 1 (size 5): ['gt0217', 'mm2372', 'gp0252', 'md0894', 'sy0594']\n",
            "Group 2 (size 5): ['sv1394', 'un0045', 'sm2985', 'mr1765', 'sv1752']\n",
            "Group 3 (size 5): ['tk0411', 'mk1302', 'sn0913', 'md0912', 'vg0433']\n",
            "Group 4 (size 5): ['sr1335', 'ap1484', 'sk2922', 'an0892', 'hs0665']\n",
            "Group 5 (size 5): ['ac1964', 'sr1385', 'rb0846', 'tv0186', 'vk0656']\n",
            "Group 6 (size 5): ['sv1555', 'ad1198', 'hc0612', 'pk0553', 'srk0204']\n",
            "Group 7 (size 5): ['vg0598', 'tk0412', 'sk2936', 'mk1317', 'ms2060']\n",
            "Group 8 (size 4): ['mh1068', 'yj0173', 'md0825', 'nt0385']\n"
          ]
        }
      ],
      "source": [
        "import random\n",
        "import math\n",
        "\n",
        "def make_groups(names, min_size=4, max_size=6, max_groups=8, seed=None):\n",
        "    \"\"\"\n",
        "    Randomly partition 'names' into groups such that:\n",
        "      - number of groups <= max_groups\n",
        "      - each group size is between [min_size, max_size]\n",
        "    Returns a list of groups (each group is a list of names).\n",
        "    \"\"\"\n",
        "    n = len(names)\n",
        "    if n == 0:\n",
        "        return []\n",
        "\n",
        "    # optional seeding for reproducibility (comment out for fresh randomness)\n",
        "    if seed is not None:\n",
        "        random.seed(seed)\n",
        "\n",
        "    # Determine feasible range for number of groups\n",
        "    min_groups_needed = math.ceil(n / max_size)          # to not exceed max_size\n",
        "    max_groups_allowed = min(max_groups, n // min_size if n % min_size == 0 else n // min_size + 1)\n",
        "\n",
        "    if min_groups_needed > max_groups_allowed:\n",
        "        raise ValueError(\"No feasible grouping under the given constraints.\")\n",
        "\n",
        "    # Randomly choose a valid group count in the feasible range\n",
        "    group_count = random.randint(min_groups_needed, max_groups_allowed)\n",
        "\n",
        "    # Shuffle the roster\n",
        "    shuffled = names[:]  # copy\n",
        "    random.shuffle(shuffled)\n",
        "\n",
        "    # Compute group sizes: distribute remainder so sizes differ by at most 1\n",
        "    base = n // group_count\n",
        "    remainder = n % group_count\n",
        "    sizes = [base + 1 if i < remainder else base for i in range(group_count)]\n",
        "\n",
        "    # Safety: ensure sizes meet constraints (should be true by construction)\n",
        "    if not all(min_size <= s <= max_size for s in sizes):\n",
        "        raise RuntimeError(\"Constructed sizes violate constraints.\")\n",
        "\n",
        "    # Build the actual groups\n",
        "    groups = []\n",
        "    idx = 0\n",
        "    for size in sizes:\n",
        "        groups.append(shuffled[idx: idx + size])\n",
        "        idx += size\n",
        "\n",
        "    return groups\n",
        "\n",
        "\n",
        "# ---- Class list (strings) ----\n",
        "student_list_spring_2024 = [\n",
        "    \"rb0846\", \"ac1964\", \"hc0612\", \"md0912\", \"ad1198\", \"md0894\", \"md0825\",\n",
        "    \"vg0598\", \"vg0433\", \"mh1068\", \"yj0173\", \"pk0553\", \"tk0411\", \"srk0204\",\n",
        "    \"sk2922\", \"sk2936\", \"mk1302\", \"mk1317\", \"tk0412\", \"vk0656\", \"sm2985\",\n",
        "    \"mm2372\", \"un0045\", \"an0892\", \"sn0913\", \"gp0252\", \"ap1484\", \"mr1765\",\n",
        "    \"sr1385\", \"sr1335\", \"hs0665\", \"ms2060\", \"gt0217\", \"nt0385\", \"tv0186\",\n",
        "    \"sv1394\", \"sv1752\", \"sv1555\", \"sy0594\"\n",
        "]\n",
        "\n",
        "# Example: generate groups (set seed for reproducible demo; remove or change for fresh)\n",
        "groups = make_groups(student_list_spring_2024, min_size=4, max_size=6, max_groups=8, seed=None)\n",
        "\n",
        "# Print nicely\n",
        "for i, g in enumerate(groups, start=1):\n",
        "    print(f\"Group {i} (size {len(g)}): {g}\")\n",
        "\n"
      ]
    },
    {
      "cell_type": "markdown",
      "metadata": {
        "id": "fmZ9vX20Qs3d"
      },
      "source": [
        "## Question 16\n",
        "Create a program that takes a positive integer 'n' as input and prints the count of even numbers from 1 to 'n'. Optimize the loop using the continue statement."
      ]
    },
    {
      "cell_type": "code",
      "execution_count": null,
      "metadata": {
        "id": "W8Jw6sWMQs3d",
        "colab": {
          "base_uri": "https://localhost:8080/"
        },
        "outputId": "edb2c7b2-9108-4e50-e117-0c5b56512267"
      },
      "outputs": [
        {
          "output_type": "stream",
          "name": "stdout",
          "text": [
            "Enter a positive integer: 6\n",
            "Total even numbers between 1 and 6: 3\n"
          ]
        }
      ],
      "source": [
        "# Program to count even numbers from 1 to n using continue\n",
        "\n",
        "# Take input from user\n",
        "n = int(input(\"Enter a positive integer: \"))\n",
        "\n",
        "count_even = 0\n",
        "num = 1\n",
        "\n",
        "while num <= n:\n",
        "    if num % 2 != 0:   # if odd, skip the rest of the loop\n",
        "        num += 1\n",
        "        continue\n",
        "    # if even, increase counter\n",
        "    count_even += 1\n",
        "    num += 1\n",
        "\n",
        "print(f\"Total even numbers between 1 and {n}: {count_even}\")\n",
        "\n"
      ]
    },
    {
      "cell_type": "markdown",
      "metadata": {
        "id": "hvq4APMhQs3d"
      },
      "source": [
        "## Question 17\n",
        "Develop a Python function called 'count_vowels' that takes a string as input and returns the count of vowels (both lowercase and uppercase) present in the string, ignoring spaces and non-alphabetic characters."
      ]
    },
    {
      "cell_type": "code",
      "execution_count": null,
      "metadata": {
        "id": "ZnoxhSglQs3d",
        "colab": {
          "base_uri": "https://localhost:8080/"
        },
        "outputId": "42de0c48-ca13-43c2-8f87-48041b9443f8"
      },
      "outputs": [
        {
          "output_type": "stream",
          "name": "stdout",
          "text": [
            "Input string: Python Programming IS Awesome!!!\n",
            "Number of vowels: 9\n"
          ]
        }
      ],
      "source": [
        "# Function to count vowels in a string\n",
        "def count_vowels(text):\n",
        "    vowels = \"aeiouAEIOU\"\n",
        "    total = 0\n",
        "    index = 0\n",
        "\n",
        "    # Loop through the string with while (less common than for-loop)\n",
        "    while index < len(text):\n",
        "        ch = text[index]\n",
        "        if ch.isalpha() and ch in vowels:\n",
        "            total += 1\n",
        "        index += 1\n",
        "\n",
        "    return total\n",
        "\n",
        "\n",
        "# Example usage\n",
        "sample = \"Python Programming IS Awesome!!!\"\n",
        "result = count_vowels(sample)\n",
        "print(\"Input string:\", sample)\n",
        "print(\"Number of vowels:\", result)\n",
        "\n"
      ]
    },
    {
      "cell_type": "markdown",
      "source": [
        "## Question 18\n",
        "Create a custom exception named ValueTooSmallError in Python. Write a program that takes user input for an age, and if the entered age is less than 18, raise the ValueTooSmallError with an appropriate error message."
      ],
      "metadata": {
        "id": "55FWoSJPVVM6"
      }
    },
    {
      "cell_type": "code",
      "source": [
        "# Define custom exception\n",
        "class ValueTooSmallError(Exception):\n",
        "    \"\"\"Raised when the input value is smaller than the allowed minimum.\"\"\"\n",
        "    pass\n",
        "\n",
        "\n",
        "# Main program\n",
        "try:\n",
        "    age = int(input(\"Enter your age: \"))\n",
        "\n",
        "    if age < 18:\n",
        "        # Raise custom exception\n",
        "        raise ValueTooSmallError(\"Age must be at least 18. You entered {}.\".format(age))\n",
        "    else:\n",
        "        print(\"Access granted. Your age is valid:\", age)\n",
        "\n",
        "except ValueTooSmallError as e:\n",
        "    print(\"Custom Exception:\", e)\n",
        "\n",
        "except ValueError:\n",
        "    print(\"Invalid input! Please enter a number for age.\")\n",
        "\n"
      ],
      "metadata": {
        "id": "hwtr1wZmVX5A",
        "colab": {
          "base_uri": "https://localhost:8080/"
        },
        "outputId": "5f64d01d-229f-4bf8-d815-686eaeab8266"
      },
      "execution_count": null,
      "outputs": [
        {
          "output_type": "stream",
          "name": "stdout",
          "text": [
            "Enter your age: 16\n",
            "Custom Exception: Age must be at least 18. You entered 16.\n"
          ]
        }
      ]
    },
    {
      "cell_type": "markdown",
      "source": [
        "## Question 19\n",
        "Develop a script that reverses a given string without using built-in reverse functions."
      ],
      "metadata": {
        "id": "Q9ecagcaVazW"
      }
    },
    {
      "cell_type": "code",
      "source": [
        "# Program to reverse a string without built-in reverse functions\n",
        "\n",
        "# Take input from the user\n",
        "text = input(\"Enter a string: \")\n",
        "\n",
        "# Initialize an empty string to store the reversed version\n",
        "reversed_text = \"\"\n",
        "\n",
        "# Use a loop to build the reversed string\n",
        "index = len(text) - 1\n",
        "while index >= 0:\n",
        "    reversed_text += text[index]\n",
        "    index -= 1\n",
        "\n",
        "# Display the result\n",
        "print(\"Original string:\", text)\n",
        "print(\"Reversed string:\", reversed_text)\n",
        "\n"
      ],
      "metadata": {
        "id": "gycgckoAVZjR",
        "colab": {
          "base_uri": "https://localhost:8080/"
        },
        "outputId": "cc8f3441-e5bb-4712-986e-80fe21800547"
      },
      "execution_count": null,
      "outputs": [
        {
          "output_type": "stream",
          "name": "stdout",
          "text": [
            "Enter a string: saloni\n",
            "Original string: saloni\n",
            "Reversed string: inolas\n"
          ]
        }
      ]
    },
    {
      "cell_type": "markdown",
      "source": [
        "## Question 20\n",
        "Implement a Python script to generate a random password of a specified length."
      ],
      "metadata": {
        "id": "ZFG6RibifMLu"
      }
    },
    {
      "cell_type": "code",
      "source": [
        "import random\n",
        "\n",
        "def generate_password(length):\n",
        "    # Define characters to use\n",
        "    lowercase = \"abcdefghijklmnopqrstuvwxyz\"\n",
        "    uppercase = \"ABCDEFGHIJKLMNOPQRSTUVWXYZ\"\n",
        "    digits = \"0123456789\"\n",
        "    symbols = \"!@#$%^&*()-_=+[]{};:,.<>?/|\"\n",
        "\n",
        "    # Combine all into one pool\n",
        "    all_chars = lowercase + uppercase + digits + symbols\n",
        "\n",
        "    password = \"\"\n",
        "    counter = 0\n",
        "\n",
        "    # Pick random characters one by one\n",
        "    while counter < length:\n",
        "        choice = random.choice(all_chars)\n",
        "        password += choice\n",
        "        counter += 1\n",
        "\n",
        "    return password\n",
        "\n",
        "\n",
        "# Example usage\n",
        "try:\n",
        "    n = int(input(\"Enter desired password length: \"))\n",
        "    if n <= 0:\n",
        "        print(\"Length must be a positive number.\")\n",
        "    else:\n",
        "        pwd = generate_password(n)\n",
        "        print(\"Generated password:\", pwd)\n",
        "except ValueError:\n",
        "    print(\"Invalid input! Please enter a number.\")\n"
      ],
      "metadata": {
        "id": "BFVrkEi9fNiD",
        "colab": {
          "base_uri": "https://localhost:8080/"
        },
        "outputId": "577e4db1-8695-4ef9-de43-937b167dc014"
      },
      "execution_count": null,
      "outputs": [
        {
          "output_type": "stream",
          "name": "stdout",
          "text": [
            "Enter desired password length: 6\n",
            "Generated password: NZdB37\n"
          ]
        }
      ]
    },
    {
      "cell_type": "markdown",
      "source": [
        "# Try these questions"
      ],
      "metadata": {
        "id": "6SmvS7nSfbj8"
      }
    },
    {
      "cell_type": "markdown",
      "source": [
        "(21) Define a base class called 'Vehicle' with attributes make and model. Create a derived class Car that inherits from Vehicle and has an additional attribute 'num_doors'. Demonstrate an example of creating an instance of the 'Car' class and accessing its attributes."
      ],
      "metadata": {
        "id": "cboAr5pEWUf5"
      }
    },
    {
      "cell_type": "code",
      "source": [
        "# Base class\n",
        "class Vehicle:\n",
        "    def __init__(self, make, model):\n",
        "        self.make = make\n",
        "        self.model = model\n",
        "\n",
        "    def display_info(self):\n",
        "        return f\"Make: {self.make}, Model: {self.model}\"\n",
        "\n",
        "\n",
        "# Derived class\n",
        "class Car(Vehicle):\n",
        "    def __init__(self, make, model, num_doors):\n",
        "        # Call the base class constructor\n",
        "        super().__init__(make, model)\n",
        "        self.num_doors = num_doors\n",
        "\n",
        "    def display_info(self):\n",
        "        base_info = super().display_info()\n",
        "        return f\"{base_info}, Doors: {self.num_doors}\"\n",
        "\n",
        "\n",
        "# Example usage\n",
        "my_car = Car(\"Toyota\", \"Camry\", 4)\n",
        "\n",
        "print(\"Car Make:\", my_car.make)\n",
        "print(\"Car Model:\", my_car.model)\n",
        "print(\"Number of Doors:\", my_car.num_doors)\n",
        "print(\"Full Info:\", my_car.display_info())\n",
        "\n"
      ],
      "metadata": {
        "id": "phs9gciMWWAW",
        "colab": {
          "base_uri": "https://localhost:8080/"
        },
        "outputId": "c6a9928f-51ad-4169-fe2e-d60d765a29d7"
      },
      "execution_count": null,
      "outputs": [
        {
          "output_type": "stream",
          "name": "stdout",
          "text": [
            "Car Make: Toyota\n",
            "Car Model: Camry\n",
            "Number of Doors: 4\n",
            "Full Info: Make: Toyota, Model: Camry, Doors: 4\n"
          ]
        }
      ]
    },
    {
      "cell_type": "markdown",
      "source": [
        "(22) Create a class called 'Shape' with a method calculate_area(). Implement two derived classes 'Circle' and 'Rectangle' that inherit from Shape and override the calculate_area() method. Demonstrate polymorphism by creating instances of both derived classes and calling the calculate_area() method."
      ],
      "metadata": {
        "id": "J8HHefNtePwd"
      }
    },
    {
      "cell_type": "code",
      "source": [
        "import math\n",
        "\n",
        "# Base class\n",
        "class Shape:\n",
        "    def calculate_area(self):\n",
        "        # Generic placeholder\n",
        "        raise NotImplementedError(\"Subclasses must override this method.\")\n",
        "\n",
        "\n",
        "# Derived class: Circle\n",
        "class Circle(Shape):\n",
        "    def __init__(self, radius):\n",
        "        self.radius = radius\n",
        "\n",
        "    def calculate_area(self):\n",
        "        return math.pi * self.radius * self.radius\n",
        "\n",
        "\n",
        "# Derived class: Rectangle\n",
        "class Rectangle(Shape):\n",
        "    def __init__(self, width, height):\n",
        "        self.width = width\n",
        "        self.height = height\n",
        "\n",
        "    def calculate_area(self):\n",
        "        return self.width * self.height\n",
        "\n",
        "\n",
        "# Demonstration of polymorphism\n",
        "shapes = [\n",
        "    Circle(5),         # circle with radius 5\n",
        "    Rectangle(4, 6)    # rectangle 4x6\n",
        "]\n",
        "\n",
        "for s in shapes:\n",
        "    print(f\"Area of {s.__class__.__name__}:\", s.calculate_area())\n"
      ],
      "metadata": {
        "id": "btnMmUZDeRhS",
        "colab": {
          "base_uri": "https://localhost:8080/"
        },
        "outputId": "e25cf5a9-c1f7-4327-bb86-2eb46268f138"
      },
      "execution_count": null,
      "outputs": [
        {
          "output_type": "stream",
          "name": "stdout",
          "text": [
            "Area of Circle: 78.53981633974483\n",
            "Area of Rectangle: 24\n"
          ]
        }
      ]
    },
    {
      "cell_type": "markdown",
      "source": [
        "(23) Write a Python program that prompts the user to enter two numbers and perform a division operation. Handle exceptions for both zero division and invalid input (non-numeric input). Display appropriate error messages for each type of exception and ensure the program does not crash due to these errors."
      ],
      "metadata": {
        "id": "z0oqEAlTeMUS"
      }
    },
    {
      "cell_type": "code",
      "source": [
        "# Program to perform division with exception handling\n",
        "\n",
        "try:\n",
        "    # Take inputs from user\n",
        "    num1 = input(\"Enter the first number: \")\n",
        "    num2 = input(\"Enter the second number: \")\n",
        "\n",
        "    # Try converting inputs to floats\n",
        "    a = float(num1)\n",
        "    b = float(num2)\n",
        "\n",
        "    # Perform division\n",
        "    result = a / b\n",
        "    print(f\"The result of {a} divided by {b} is: {result}\")\n",
        "\n",
        "except ValueError:\n",
        "    # Handles case when input is not numeric\n",
        "    print(\"Error: Please enter valid numeric values.\")\n",
        "\n",
        "except ZeroDivisionError:\n",
        "    # Handles case when second number is zero\n",
        "    print(\"Error: Division by zero is not allowed.\")\n"
      ],
      "metadata": {
        "id": "yjdc1zM1eMAs",
        "colab": {
          "base_uri": "https://localhost:8080/"
        },
        "outputId": "1bcaf8dd-b982-438f-80a8-e41078c6193f"
      },
      "execution_count": null,
      "outputs": [
        {
          "output_type": "stream",
          "name": "stdout",
          "text": [
            "Enter the first number: 15\n",
            "Enter the second number: 20\n",
            "The result of 15.0 divided by 20.0 is: 0.75\n"
          ]
        }
      ]
    },
    {
      "cell_type": "markdown",
      "source": [
        "# Mandatory Question"
      ],
      "metadata": {
        "id": "sZOhks1dXWEe"
      }
    },
    {
      "cell_type": "markdown",
      "source": [
        "**Important:**\n",
        "Reflecting on the first three lectures and the exercises you've completed, please provide feedback on your learning experience. Share your thoughts on whether the material covered was clear, the exercises were helpful, and if you feel more confident in applying Python programming concepts. Additionally, mention any specific areas where you would like more clarification or topics you would like to explore further in future lectures. Your feedback is valuable in shaping the course for an effective learning journey."
      ],
      "metadata": {
        "id": "eqmHVEwaWhbV"
      }
    },
    {
      "cell_type": "code",
      "source": [
        "'''\n",
        "The initial three lectures were well-paced and articulate, and exercises very useful in strengthening important Python concepts of loops, functions, and error handling.\n",
        "I am now more confident that I can write small programs myself.\n",
        "The area that I could use further clarification is in object-oriented programming (and therefore inheritance and polymorphism) as these concepts are a bit abstract.\n",
        "I would also like to see more real world uses of python like handling files or incorporating various ideas into small projects in small projects.\n",
        "On the whole, I find the learning experience positive and it has increased my confidence in using Python.\n",
        "'''"
      ],
      "metadata": {
        "id": "akAVJn9YBTQT"
      },
      "execution_count": null,
      "outputs": []
    },
    {
      "cell_type": "markdown",
      "source": [
        "Google colab link: https://colab.research.google.com/drive/1KoBHMQqkXWrkRvwOi2ubDUosszQD93or?usp=sharing"
      ],
      "metadata": {
        "id": "S4BGnZqu7S-i"
      }
    }
  ],
  "metadata": {
    "colab": {
      "provenance": [],
      "collapsed_sections": [
        "FBKvD6O_TY6e",
        "E9RqrlwdTfvl",
        "03jb4GZsBkBS",
        "jJDe71iLB616",
        "55W9AMdXCSpV",
        "4ulBZ6yhCi9F",
        "6SmvS7nSfbj8"
      ],
      "include_colab_link": true
    },
    "kernelspec": {
      "display_name": "Python 3 (ipykernel)",
      "language": "python",
      "name": "python3"
    },
    "language_info": {
      "codemirror_mode": {
        "name": "ipython",
        "version": 3
      },
      "file_extension": ".py",
      "mimetype": "text/x-python",
      "name": "python",
      "nbconvert_exporter": "python",
      "pygments_lexer": "ipython3",
      "version": "3.9.12"
    }
  },
  "nbformat": 4,
  "nbformat_minor": 0
}